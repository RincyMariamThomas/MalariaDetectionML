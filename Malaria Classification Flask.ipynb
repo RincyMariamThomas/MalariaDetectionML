{
 "cells": [
  {
   "cell_type": "code",
   "execution_count": null,
   "metadata": {},
   "outputs": [
    {
     "name": "stdout",
     "output_type": "stream",
     "text": [
      " * Serving Flask app \"__main__\" (lazy loading)\n",
      " * Environment: production\n",
      "   WARNING: This is a development server. Do not use it in a production deployment.\n",
      "   Use a production WSGI server instead.\n",
      " * Debug mode: off\n"
     ]
    },
    {
     "name": "stderr",
     "output_type": "stream",
     "text": [
      " * Running on http://127.0.0.1:5000/ (Press CTRL+C to quit)\n",
      "127.0.0.1 - - [23/Sep/2020 10:19:11] \"\u001b[37mGET / HTTP/1.1\u001b[0m\" 200 -\n",
      "127.0.0.1 - - [23/Sep/2020 10:19:13] \"\u001b[33mGET /favicon.ico HTTP/1.1\u001b[0m\" 404 -\n",
      "127.0.0.1 - - [23/Sep/2020 10:19:51] \"\u001b[37mPOST /predict HTTP/1.1\u001b[0m\" 200 -\n"
     ]
    },
    {
     "name": "stdout",
     "output_type": "stream",
     "text": [
      "prediction [[1.]]\n"
     ]
    }
   ],
   "source": [
    "import os\n",
    "import numpy as np #used for numerical analysis\n",
    "from flask import Flask,request,render_template# Flask-It is our framework which we are going to use to run/serve our application.\n",
    "#request-for accessing file which was uploaded by the user on our application.\n",
    "#render_template- used for rendering the html pages\n",
    "from tensorflow.keras.models import load_model#to load our trained model\n",
    "from tensorflow.keras.preprocessing import image\n",
    "\n",
    "\n",
    "\n",
    "app=Flask(__name__)#our flask app\n",
    "model=load_model(r'E:/Malaria Detection using DL/maleria.h5')#loading the model\n",
    "\n",
    "@app.route(\"/\") #default route\n",
    "def home():\n",
    "    return render_template(\"index6.html\")#rendering html page\n",
    "\n",
    "@app.route(\"/predict\",methods=[\"GET\",\"POST\"]) #route for our prediction\n",
    "def upload():\n",
    "    if request.method=='POST':\n",
    "        f=request.files['file'] #requesting the file\n",
    "        basepath=os.path.dirname('__file__')#storing the file directory\n",
    "        filepath=os.path.join(basepath,\"uploads\",f.filename)#storing the file in uploads folder\n",
    "        f.save(filepath)#saving the file\n",
    "        \n",
    "        img=image.load_img(filepath,target_size=(64,64)) #load and reshaping the image\n",
    "        x=image.img_to_array(img)#converting image to array\n",
    "        x=np.expand_dims(x,axis=0)#changing the dimensions of the image\n",
    "        \n",
    "        pred=model.predict(x)#predicting the results\n",
    "        print(\"prediction\",pred)#printing the prediction\n",
    "        if(pred==1):#checking the results\n",
    "            result=\"Uninfected\"\n",
    "        else:\n",
    "            result=\"Infected\"\n",
    "        return result#resturing the result\n",
    "    return None\n",
    "\n",
    "#port = int(os.getenv(\"PORT\"))\n",
    "if __name__==\"__main__\":\n",
    "    app.run(debug=False)#running our app\n",
    "    #app.run(host='0.0.0.0', port=port)\n",
    "            \n",
    "            "
   ]
  }
 ],
 "metadata": {
  "kernelspec": {
   "display_name": "Python 3",
   "language": "python",
   "name": "python3"
  },
  "language_info": {
   "codemirror_mode": {
    "name": "ipython",
    "version": 3
   },
   "file_extension": ".py",
   "mimetype": "text/x-python",
   "name": "python",
   "nbconvert_exporter": "python",
   "pygments_lexer": "ipython3",
   "version": "3.8.3"
  }
 },
 "nbformat": 4,
 "nbformat_minor": 4
}
